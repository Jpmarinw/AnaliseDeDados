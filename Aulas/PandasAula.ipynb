{
 "cells": [
  {
   "cell_type": "code",
   "execution_count": 1,
   "id": "6ac82594-b069-4942-8d48-4dc68246a3d7",
   "metadata": {},
   "outputs": [],
   "source": [
    "import pandas as pd"
   ]
  },
  {
   "cell_type": "code",
   "execution_count": 2,
   "id": "877feef2-62c6-47aa-a854-6ba1a5bc186c",
   "metadata": {},
   "outputs": [],
   "source": [
    "cidades = [\n",
    "    \"São Paulo (SP)\",\n",
    "     \"Rio de Janeiro (RJ)\",\n",
    "     \"Brasília (DF)\",\n",
    "     \"Salvador (BA)\",\n",
    "     \"Fortaleza (CE)\",\n",
    "     \"Manaus (AM)\",\n",
    "]\n",
    "\n",
    "populacoes = [\n",
    "    12,\n",
    "    6.5,\n",
    "    3,\n",
    "    2.4,\n",
    "    2.4,\n",
    "    2.3\n",
    "]"
   ]
  },
  {
   "cell_type": "code",
   "execution_count": 4,
   "id": "143224a1-7aeb-401f-aa5b-ffac034bdac8",
   "metadata": {},
   "outputs": [
    {
     "data": {
      "text/plain": [
       "0         São Paulo (SP)\n",
       "1    Rio de Janeiro (RJ)\n",
       "2          Brasília (DF)\n",
       "3          Salvador (BA)\n",
       "4         Fortaleza (CE)\n",
       "5            Manaus (AM)\n",
       "dtype: object"
      ]
     },
     "execution_count": 4,
     "metadata": {},
     "output_type": "execute_result"
    }
   ],
   "source": [
    "cidades_serie = pd.Series(cidades)\n",
    "cidades_serie"
   ]
  },
  {
   "cell_type": "code",
   "execution_count": 5,
   "id": "b842e566-da6c-4840-80c5-8303cc8a69d7",
   "metadata": {},
   "outputs": [
    {
     "data": {
      "text/plain": [
       "0    12.0\n",
       "1     6.5\n",
       "2     3.0\n",
       "3     2.4\n",
       "4     2.4\n",
       "5     2.3\n",
       "dtype: float64"
      ]
     },
     "execution_count": 5,
     "metadata": {},
     "output_type": "execute_result"
    }
   ],
   "source": [
    "populacoes_serie = pd.Series(populacoes)\n",
    "populacoes_serie"
   ]
  },
  {
   "cell_type": "code",
   "execution_count": 8,
   "id": "55e59afa-f813-44bd-9d4c-92131f2ef338",
   "metadata": {},
   "outputs": [
    {
     "data": {
      "text/plain": [
       "'Salvador (BA)'"
      ]
     },
     "execution_count": 8,
     "metadata": {},
     "output_type": "execute_result"
    }
   ],
   "source": [
    "cidades_serie[3]"
   ]
  },
  {
   "cell_type": "code",
   "execution_count": 9,
   "id": "bad49b39-b7fa-4eac-acd5-db06f89882ab",
   "metadata": {},
   "outputs": [
    {
     "data": {
      "text/plain": [
       "3     Salvador (BA)\n",
       "4    Fortaleza (CE)\n",
       "dtype: object"
      ]
     },
     "execution_count": 9,
     "metadata": {},
     "output_type": "execute_result"
    }
   ],
   "source": [
    "cidades_serie[3:5]"
   ]
  },
  {
   "cell_type": "code",
   "execution_count": 11,
   "id": "551c59b0-1cdc-4441-a750-b3741a2fcceb",
   "metadata": {},
   "outputs": [
    {
     "data": {
      "text/plain": [
       "np.float64(12.0)"
      ]
     },
     "execution_count": 11,
     "metadata": {},
     "output_type": "execute_result"
    }
   ],
   "source": [
    "populacoes_serie.max()"
   ]
  },
  {
   "cell_type": "code",
   "execution_count": 12,
   "id": "cdc16e74-cb01-471c-b391-2c9af40543fc",
   "metadata": {},
   "outputs": [
    {
     "data": {
      "text/plain": [
       "np.float64(4.766666666666667)"
      ]
     },
     "execution_count": 12,
     "metadata": {},
     "output_type": "execute_result"
    }
   ],
   "source": [
    "populacoes_serie.mean()"
   ]
  },
  {
   "cell_type": "code",
   "execution_count": 13,
   "id": "a4e1d632-3b25-43ce-a832-44a4a1dc09ed",
   "metadata": {},
   "outputs": [
    {
     "data": {
      "text/plain": [
       "0    24.0\n",
       "1    13.0\n",
       "2     6.0\n",
       "3     4.8\n",
       "4     4.8\n",
       "5     4.6\n",
       "dtype: float64"
      ]
     },
     "execution_count": 13,
     "metadata": {},
     "output_type": "execute_result"
    }
   ],
   "source": [
    "populacoes_serie * 2"
   ]
  },
  {
   "cell_type": "code",
   "execution_count": 14,
   "id": "97cd3881-41c0-4f69-bb8e-ee19fcc898d6",
   "metadata": {},
   "outputs": [
    {
     "data": {
      "text/html": [
       "<div>\n",
       "<style scoped>\n",
       "    .dataframe tbody tr th:only-of-type {\n",
       "        vertical-align: middle;\n",
       "    }\n",
       "\n",
       "    .dataframe tbody tr th {\n",
       "        vertical-align: top;\n",
       "    }\n",
       "\n",
       "    .dataframe thead th {\n",
       "        text-align: right;\n",
       "    }\n",
       "</style>\n",
       "<table border=\"1\" class=\"dataframe\">\n",
       "  <thead>\n",
       "    <tr style=\"text-align: right;\">\n",
       "      <th></th>\n",
       "      <th>cidade</th>\n",
       "      <th>populacao em milhoes</th>\n",
       "    </tr>\n",
       "  </thead>\n",
       "  <tbody>\n",
       "    <tr>\n",
       "      <th>0</th>\n",
       "      <td>São Paulo (SP)</td>\n",
       "      <td>12.0</td>\n",
       "    </tr>\n",
       "    <tr>\n",
       "      <th>1</th>\n",
       "      <td>Rio de Janeiro (RJ)</td>\n",
       "      <td>6.5</td>\n",
       "    </tr>\n",
       "    <tr>\n",
       "      <th>2</th>\n",
       "      <td>Brasília (DF)</td>\n",
       "      <td>3.0</td>\n",
       "    </tr>\n",
       "    <tr>\n",
       "      <th>3</th>\n",
       "      <td>Salvador (BA)</td>\n",
       "      <td>2.4</td>\n",
       "    </tr>\n",
       "    <tr>\n",
       "      <th>4</th>\n",
       "      <td>Fortaleza (CE)</td>\n",
       "      <td>2.4</td>\n",
       "    </tr>\n",
       "    <tr>\n",
       "      <th>5</th>\n",
       "      <td>Manaus (AM)</td>\n",
       "      <td>2.3</td>\n",
       "    </tr>\n",
       "  </tbody>\n",
       "</table>\n",
       "</div>"
      ],
      "text/plain": [
       "                cidade  populacao em milhoes\n",
       "0       São Paulo (SP)                  12.0\n",
       "1  Rio de Janeiro (RJ)                   6.5\n",
       "2        Brasília (DF)                   3.0\n",
       "3        Salvador (BA)                   2.4\n",
       "4       Fortaleza (CE)                   2.4\n",
       "5          Manaus (AM)                   2.3"
      ]
     },
     "execution_count": 14,
     "metadata": {},
     "output_type": "execute_result"
    }
   ],
   "source": [
    "cidades_populosas = pd.DataFrame({'cidade': cidades_serie, 'populacao em milhoes': populacoes_serie})\n",
    "cidades_populosas"
   ]
  },
  {
   "cell_type": "code",
   "execution_count": 15,
   "id": "a730c5d4-8894-4f20-aa0a-e489e81abb54",
   "metadata": {},
   "outputs": [
    {
     "name": "stdout",
     "output_type": "stream",
     "text": [
      "<class 'pandas.core.frame.DataFrame'>\n",
      "RangeIndex: 6 entries, 0 to 5\n",
      "Data columns (total 2 columns):\n",
      " #   Column                Non-Null Count  Dtype  \n",
      "---  ------                --------------  -----  \n",
      " 0   cidade                6 non-null      object \n",
      " 1   populacao em milhoes  6 non-null      float64\n",
      "dtypes: float64(1), object(1)\n",
      "memory usage: 228.0+ bytes\n"
     ]
    }
   ],
   "source": [
    "cidades_populosas.info()"
   ]
  },
  {
   "cell_type": "code",
   "execution_count": 17,
   "id": "11c91e8b-a306-40f2-bdd1-8d05c7e2e358",
   "metadata": {},
   "outputs": [
    {
     "data": {
      "text/plain": [
       "0         São Paulo (SP)\n",
       "1    Rio de Janeiro (RJ)\n",
       "2          Brasília (DF)\n",
       "3          Salvador (BA)\n",
       "4         Fortaleza (CE)\n",
       "5            Manaus (AM)\n",
       "Name: cidade, dtype: object"
      ]
     },
     "execution_count": 17,
     "metadata": {},
     "output_type": "execute_result"
    }
   ],
   "source": [
    "cidades_populosas['cidade']"
   ]
  },
  {
   "cell_type": "code",
   "execution_count": 18,
   "id": "f7a0a305-d51d-496f-a830-fa56f594e6b6",
   "metadata": {},
   "outputs": [
    {
     "data": {
      "text/plain": [
       "cidade                  Salvador (BA)\n",
       "populacao em milhoes              2.4\n",
       "Name: 3, dtype: object"
      ]
     },
     "execution_count": 18,
     "metadata": {},
     "output_type": "execute_result"
    }
   ],
   "source": [
    "cidades_populosas.iloc[3]"
   ]
  },
  {
   "cell_type": "code",
   "execution_count": 19,
   "id": "760cac89-4f23-44a6-9e7c-f244a213996d",
   "metadata": {},
   "outputs": [
    {
     "data": {
      "text/html": [
       "<div>\n",
       "<style scoped>\n",
       "    .dataframe tbody tr th:only-of-type {\n",
       "        vertical-align: middle;\n",
       "    }\n",
       "\n",
       "    .dataframe tbody tr th {\n",
       "        vertical-align: top;\n",
       "    }\n",
       "\n",
       "    .dataframe thead th {\n",
       "        text-align: right;\n",
       "    }\n",
       "</style>\n",
       "<table border=\"1\" class=\"dataframe\">\n",
       "  <thead>\n",
       "    <tr style=\"text-align: right;\">\n",
       "      <th></th>\n",
       "      <th>cidade</th>\n",
       "      <th>populacao em milhoes</th>\n",
       "    </tr>\n",
       "  </thead>\n",
       "  <tbody>\n",
       "    <tr>\n",
       "      <th>3</th>\n",
       "      <td>Salvador (BA)</td>\n",
       "      <td>2.4</td>\n",
       "    </tr>\n",
       "    <tr>\n",
       "      <th>4</th>\n",
       "      <td>Fortaleza (CE)</td>\n",
       "      <td>2.4</td>\n",
       "    </tr>\n",
       "  </tbody>\n",
       "</table>\n",
       "</div>"
      ],
      "text/plain": [
       "           cidade  populacao em milhoes\n",
       "3   Salvador (BA)                   2.4\n",
       "4  Fortaleza (CE)                   2.4"
      ]
     },
     "execution_count": 19,
     "metadata": {},
     "output_type": "execute_result"
    }
   ],
   "source": [
    "cidades_populosas.iloc[3:5]"
   ]
  },
  {
   "cell_type": "code",
   "execution_count": 20,
   "id": "994e7168-2ea4-4350-9dd6-2c11ccb85494",
   "metadata": {},
   "outputs": [
    {
     "data": {
      "text/html": [
       "<div>\n",
       "<style scoped>\n",
       "    .dataframe tbody tr th:only-of-type {\n",
       "        vertical-align: middle;\n",
       "    }\n",
       "\n",
       "    .dataframe tbody tr th {\n",
       "        vertical-align: top;\n",
       "    }\n",
       "\n",
       "    .dataframe thead th {\n",
       "        text-align: right;\n",
       "    }\n",
       "</style>\n",
       "<table border=\"1\" class=\"dataframe\">\n",
       "  <thead>\n",
       "    <tr style=\"text-align: right;\">\n",
       "      <th></th>\n",
       "      <th>cidade</th>\n",
       "      <th>populacao em milhoes</th>\n",
       "    </tr>\n",
       "  </thead>\n",
       "  <tbody>\n",
       "    <tr>\n",
       "      <th>0</th>\n",
       "      <td>São Paulo (SP)</td>\n",
       "      <td>12.0</td>\n",
       "    </tr>\n",
       "    <tr>\n",
       "      <th>1</th>\n",
       "      <td>Rio de Janeiro (RJ)</td>\n",
       "      <td>6.5</td>\n",
       "    </tr>\n",
       "    <tr>\n",
       "      <th>2</th>\n",
       "      <td>Brasília (DF)</td>\n",
       "      <td>3.0</td>\n",
       "    </tr>\n",
       "    <tr>\n",
       "      <th>3</th>\n",
       "      <td>Salvador (BA)</td>\n",
       "      <td>2.4</td>\n",
       "    </tr>\n",
       "    <tr>\n",
       "      <th>4</th>\n",
       "      <td>Fortaleza (CE)</td>\n",
       "      <td>2.4</td>\n",
       "    </tr>\n",
       "  </tbody>\n",
       "</table>\n",
       "</div>"
      ],
      "text/plain": [
       "                cidade  populacao em milhoes\n",
       "0       São Paulo (SP)                  12.0\n",
       "1  Rio de Janeiro (RJ)                   6.5\n",
       "2        Brasília (DF)                   3.0\n",
       "3        Salvador (BA)                   2.4\n",
       "4       Fortaleza (CE)                   2.4"
      ]
     },
     "execution_count": 20,
     "metadata": {},
     "output_type": "execute_result"
    }
   ],
   "source": [
    "cidades_populosas.head()"
   ]
  },
  {
   "cell_type": "code",
   "execution_count": 21,
   "id": "92de31c5-9b0d-4f23-9582-3a94b5463bd9",
   "metadata": {},
   "outputs": [
    {
     "data": {
      "text/html": [
       "<div>\n",
       "<style scoped>\n",
       "    .dataframe tbody tr th:only-of-type {\n",
       "        vertical-align: middle;\n",
       "    }\n",
       "\n",
       "    .dataframe tbody tr th {\n",
       "        vertical-align: top;\n",
       "    }\n",
       "\n",
       "    .dataframe thead th {\n",
       "        text-align: right;\n",
       "    }\n",
       "</style>\n",
       "<table border=\"1\" class=\"dataframe\">\n",
       "  <thead>\n",
       "    <tr style=\"text-align: right;\">\n",
       "      <th></th>\n",
       "      <th>cidade</th>\n",
       "      <th>populacao em milhoes</th>\n",
       "    </tr>\n",
       "  </thead>\n",
       "  <tbody>\n",
       "    <tr>\n",
       "      <th>1</th>\n",
       "      <td>Rio de Janeiro (RJ)</td>\n",
       "      <td>6.5</td>\n",
       "    </tr>\n",
       "    <tr>\n",
       "      <th>2</th>\n",
       "      <td>Brasília (DF)</td>\n",
       "      <td>3.0</td>\n",
       "    </tr>\n",
       "    <tr>\n",
       "      <th>3</th>\n",
       "      <td>Salvador (BA)</td>\n",
       "      <td>2.4</td>\n",
       "    </tr>\n",
       "    <tr>\n",
       "      <th>4</th>\n",
       "      <td>Fortaleza (CE)</td>\n",
       "      <td>2.4</td>\n",
       "    </tr>\n",
       "    <tr>\n",
       "      <th>5</th>\n",
       "      <td>Manaus (AM)</td>\n",
       "      <td>2.3</td>\n",
       "    </tr>\n",
       "  </tbody>\n",
       "</table>\n",
       "</div>"
      ],
      "text/plain": [
       "                cidade  populacao em milhoes\n",
       "1  Rio de Janeiro (RJ)                   6.5\n",
       "2        Brasília (DF)                   3.0\n",
       "3        Salvador (BA)                   2.4\n",
       "4       Fortaleza (CE)                   2.4\n",
       "5          Manaus (AM)                   2.3"
      ]
     },
     "execution_count": 21,
     "metadata": {},
     "output_type": "execute_result"
    }
   ],
   "source": [
    "cidades_populosas.tail()"
   ]
  },
  {
   "cell_type": "code",
   "execution_count": 23,
   "id": "6d17a9ee-2b92-454a-8b5b-3e79019fc96f",
   "metadata": {},
   "outputs": [
    {
     "name": "stdout",
     "output_type": "stream",
     "text": [
      "Lista final:  {'Bruna': 1, 'Pedro': 1, 'Fabricio': 1, 'Carla': 1, 'Carolina': 1, 'Felipe': 2}\n"
     ]
    }
   ],
   "source": [
    "def teste_de_nome(nome, dict_de_nomes):\n",
    "    if nome in dict_de_nomes:\n",
    "        return True\n",
    "    return False\n",
    "\n",
    "dict_de_nomes = {\"Bruna\":1, \"Pedro\":1, \"Fabricio\":1, \"Carla\":1, \"Carolina\":1, \"Felipe\":1}\n",
    "nome = \"Felipe\"\n",
    "\n",
    "if(teste_de_nome(nome, dict_de_nomes)):\n",
    "    dict_de_nomes[nome]+= 1\n",
    "else:\n",
    "    dict_de_nomes[nome] = 1\n",
    "\n",
    "print(\"Lista final: \", dict_de_nomes)"
   ]
  },
  {
   "cell_type": "code",
   "execution_count": 25,
   "id": "3f7c9e7f-9819-434c-ad86-f37cd205c8ef",
   "metadata": {},
   "outputs": [],
   "source": [
    "import numpy as np"
   ]
  },
  {
   "cell_type": "code",
   "execution_count": 26,
   "id": "8925dd87-99de-4174-9585-117a6df1f2ab",
   "metadata": {},
   "outputs": [
    {
     "name": "stdout",
     "output_type": "stream",
     "text": [
      "[[' ' '#' '#' '#' '#' '#']\n",
      " [' ' ' ' '#' '#' '#' '#']\n",
      " [' ' ' ' ' ' '#' '#' '#']\n",
      " [' ' ' ' ' ' ' ' '#' '#']\n",
      " [' ' ' ' ' ' ' ' ' ' '#']\n",
      " [' ' ' ' ' ' ' ' ' ' ' ']]\n"
     ]
    }
   ],
   "source": [
    "A = np.array([[\" \", \" \", \" \", \" \", \" \", \" \"],\n",
    "              [\" \", \" \", \" \", \" \", \" \", \" \"],\n",
    "              [\" \", \" \", \" \", \" \", \" \", \" \"],\n",
    "              [\" \", \" \", \" \", \" \", \" \", \" \"],\n",
    "              [\" \", \" \", \" \", \" \", \" \", \" \"],\n",
    "              [\" \", \" \", \" \", \" \", \" \", \" \"]])\n",
    "\n",
    "for i in range(6):\n",
    "    for j in range(6):\n",
    "        if(i < j):\n",
    "            A[i][j] = \"#\"\n",
    "\n",
    "print(A)"
   ]
  },
  {
   "cell_type": "code",
   "execution_count": null,
   "id": "20ed6260-b82b-4306-ac85-82c5caad4da9",
   "metadata": {},
   "outputs": [],
   "source": []
  }
 ],
 "metadata": {
  "kernelspec": {
   "display_name": "Python 3 (ipykernel)",
   "language": "python",
   "name": "python3"
  },
  "language_info": {
   "codemirror_mode": {
    "name": "ipython",
    "version": 3
   },
   "file_extension": ".py",
   "mimetype": "text/x-python",
   "name": "python",
   "nbconvert_exporter": "python",
   "pygments_lexer": "ipython3",
   "version": "3.12.9"
  }
 },
 "nbformat": 4,
 "nbformat_minor": 5
}

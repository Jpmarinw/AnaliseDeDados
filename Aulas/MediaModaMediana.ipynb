{
 "cells": [
  {
   "cell_type": "markdown",
   "id": "9a57e3da-ccb8-45c8-8074-487aa016dee1",
   "metadata": {},
   "source": [
    "## Análise estatística de dados com Pandas"
   ]
  },
  {
   "cell_type": "code",
   "execution_count": 1,
   "id": "0e0acab5-23e6-4b06-bf89-f40eade505fa",
   "metadata": {},
   "outputs": [
    {
     "name": "stdout",
     "output_type": "stream",
     "text": [
      "Requirement already satisfied: matplotlib in c:\\users\\jjoao\\miniconda3\\lib\\site-packages (3.10.1)\n",
      "Requirement already satisfied: contourpy>=1.0.1 in c:\\users\\jjoao\\miniconda3\\lib\\site-packages (from matplotlib) (1.3.2)\n",
      "Requirement already satisfied: cycler>=0.10 in c:\\users\\jjoao\\miniconda3\\lib\\site-packages (from matplotlib) (0.12.1)\n",
      "Requirement already satisfied: fonttools>=4.22.0 in c:\\users\\jjoao\\miniconda3\\lib\\site-packages (from matplotlib) (4.57.0)\n",
      "Requirement already satisfied: kiwisolver>=1.3.1 in c:\\users\\jjoao\\miniconda3\\lib\\site-packages (from matplotlib) (1.4.8)\n",
      "Requirement already satisfied: numpy>=1.23 in c:\\users\\jjoao\\miniconda3\\lib\\site-packages (from matplotlib) (2.2.5)\n",
      "Requirement already satisfied: packaging>=20.0 in c:\\users\\jjoao\\miniconda3\\lib\\site-packages (from matplotlib) (24.2)\n",
      "Requirement already satisfied: pillow>=8 in c:\\users\\jjoao\\miniconda3\\lib\\site-packages (from matplotlib) (11.2.1)\n",
      "Requirement already satisfied: pyparsing>=2.3.1 in c:\\users\\jjoao\\miniconda3\\lib\\site-packages (from matplotlib) (3.2.3)\n",
      "Requirement already satisfied: python-dateutil>=2.7 in c:\\users\\jjoao\\miniconda3\\lib\\site-packages (from matplotlib) (2.9.0.post0)\n",
      "Requirement already satisfied: six>=1.5 in c:\\users\\jjoao\\miniconda3\\lib\\site-packages (from python-dateutil>=2.7->matplotlib) (1.17.0)\n",
      "Note: you may need to restart the kernel to use updated packages.\n"
     ]
    }
   ],
   "source": [
    "pip install matplotlib"
   ]
  },
  {
   "cell_type": "markdown",
   "id": "44d2cfaa-d82a-47c3-8b5a-69b4e76cea13",
   "metadata": {},
   "source": [
    "## Explorando a Diferença Prática entre Média, Mediana e Moda"
   ]
  },
  {
   "cell_type": "code",
   "execution_count": 2,
   "id": "e90cc2a0-41b0-4ecd-a92f-2ddec811bffd",
   "metadata": {},
   "outputs": [
    {
     "data": {
      "text/plain": [
       "3.3333333333333335"
      ]
     },
     "execution_count": 2,
     "metadata": {},
     "output_type": "execute_result"
    }
   ],
   "source": [
    "lst = [2, 4, 6, 1, 3, 0, 4, 3, 5, 3, 5, 4]\n",
    "sum(lst) / len(lst)"
   ]
  },
  {
   "cell_type": "code",
   "execution_count": 3,
   "id": "076e8d66-cb21-4d69-8cc3-658a2edd2977",
   "metadata": {},
   "outputs": [
    {
     "name": "stdout",
     "output_type": "stream",
     "text": [
      "12\n"
     ]
    }
   ],
   "source": [
    "print(len(lst))"
   ]
  },
  {
   "cell_type": "code",
   "execution_count": 4,
   "id": "0780c226-899d-4be8-9e82-886806cf510f",
   "metadata": {},
   "outputs": [],
   "source": [
    "import statistics"
   ]
  },
  {
   "cell_type": "code",
   "execution_count": 5,
   "id": "bc08f121-a7b0-46e3-a9e1-070051dde6f7",
   "metadata": {},
   "outputs": [
    {
     "data": {
      "text/plain": [
       "3.3333333333333335"
      ]
     },
     "execution_count": 5,
     "metadata": {},
     "output_type": "execute_result"
    }
   ],
   "source": [
    "statistics.mean(lst)"
   ]
  },
  {
   "cell_type": "code",
   "execution_count": 6,
   "id": "4d6080f9-2733-4e9b-95e1-185d007c6407",
   "metadata": {},
   "outputs": [
    {
     "name": "stdout",
     "output_type": "stream",
     "text": [
      "[0, 1, 2, 3, 3, 3, 4, 4, 4, 5, 5, 6]\n"
     ]
    }
   ],
   "source": [
    "lst_sorted = sorted(lst)\n",
    "print(lst_sorted)"
   ]
  },
  {
   "cell_type": "code",
   "execution_count": 11,
   "id": "37bb153d-c0d8-4bc8-adb6-2a77e75874ed",
   "metadata": {},
   "outputs": [
    {
     "name": "stdout",
     "output_type": "stream",
     "text": [
      "5.0\n"
     ]
    }
   ],
   "source": [
    "s = len(lst_sorted)\n",
    "m = s//2\n",
    "if s % 2 != 0:\n",
    "    print(lst_sorted[m])\n",
    "else:\n",
    "    print(lst_sorted[m-1] + lst_sorted[m] / 2)"
   ]
  },
  {
   "cell_type": "code",
   "execution_count": 12,
   "id": "16ff6676-59e3-4ca1-b823-7735ae15b951",
   "metadata": {},
   "outputs": [
    {
     "data": {
      "text/plain": [
       "3.5"
      ]
     },
     "execution_count": 12,
     "metadata": {},
     "output_type": "execute_result"
    }
   ],
   "source": [
    "statistics.median(lst)"
   ]
  },
  {
   "cell_type": "code",
   "execution_count": 13,
   "id": "c44412f7-340c-4379-8175-b2863dd794d2",
   "metadata": {},
   "outputs": [
    {
     "data": {
      "text/plain": [
       "[2, 4, 6, 1, 3, 0, 4, 3, 5, 3, 5, 4, 10]"
      ]
     },
     "execution_count": 13,
     "metadata": {},
     "output_type": "execute_result"
    }
   ],
   "source": [
    "mediana_impar = lst + [10]\n",
    "mediana_impar"
   ]
  },
  {
   "cell_type": "code",
   "execution_count": 14,
   "id": "e62441ac-d76e-4647-847b-ad059e93d348",
   "metadata": {},
   "outputs": [
    {
     "data": {
      "text/plain": [
       "4"
      ]
     },
     "execution_count": 14,
     "metadata": {},
     "output_type": "execute_result"
    }
   ],
   "source": [
    "statistics.median(mediana_impar)"
   ]
  },
  {
   "cell_type": "code",
   "execution_count": 16,
   "id": "4c013aaa-257d-4050-b70b-103d3a937bae",
   "metadata": {},
   "outputs": [
    {
     "data": {
      "text/plain": [
       "4"
      ]
     },
     "execution_count": 16,
     "metadata": {},
     "output_type": "execute_result"
    }
   ],
   "source": [
    "statistics.mode(mediana_impar)"
   ]
  },
  {
   "cell_type": "code",
   "execution_count": 19,
   "id": "bc36b20b-f308-4981-82d1-313d3702606b",
   "metadata": {},
   "outputs": [],
   "source": [
    "import pandas as pd"
   ]
  },
  {
   "cell_type": "code",
   "execution_count": 20,
   "id": "542ab9ba-7e5a-4368-829c-2eaa710d644c",
   "metadata": {},
   "outputs": [],
   "source": [
    "path = 'C:/Users/jjoao/AnaliseDeDados/'"
   ]
  },
  {
   "cell_type": "code",
   "execution_count": 21,
   "id": "d8d4d772-7c42-481f-b499-1e22c13724bf",
   "metadata": {},
   "outputs": [
    {
     "data": {
      "text/html": [
       "<div>\n",
       "<style scoped>\n",
       "    .dataframe tbody tr th:only-of-type {\n",
       "        vertical-align: middle;\n",
       "    }\n",
       "\n",
       "    .dataframe tbody tr th {\n",
       "        vertical-align: top;\n",
       "    }\n",
       "\n",
       "    .dataframe thead th {\n",
       "        text-align: right;\n",
       "    }\n",
       "</style>\n",
       "<table border=\"1\" class=\"dataframe\">\n",
       "  <thead>\n",
       "    <tr style=\"text-align: right;\">\n",
       "      <th></th>\n",
       "      <th>pressao arterial</th>\n",
       "      <th>concentraçao de glicose</th>\n",
       "      <th>insulina</th>\n",
       "      <th>tipo sanguineo</th>\n",
       "      <th>idade</th>\n",
       "      <th>imc</th>\n",
       "      <th>diabetico</th>\n",
       "    </tr>\n",
       "  </thead>\n",
       "  <tbody>\n",
       "    <tr>\n",
       "      <th>0</th>\n",
       "      <td>72.0</td>\n",
       "      <td>148.0</td>\n",
       "      <td>NaN</td>\n",
       "      <td>A</td>\n",
       "      <td>50</td>\n",
       "      <td>33.6</td>\n",
       "      <td>S</td>\n",
       "    </tr>\n",
       "    <tr>\n",
       "      <th>1</th>\n",
       "      <td>66.0</td>\n",
       "      <td>85.0</td>\n",
       "      <td>NaN</td>\n",
       "      <td>O</td>\n",
       "      <td>31</td>\n",
       "      <td>26.6</td>\n",
       "      <td>N</td>\n",
       "    </tr>\n",
       "    <tr>\n",
       "      <th>2</th>\n",
       "      <td>64.0</td>\n",
       "      <td>183.0</td>\n",
       "      <td>NaN</td>\n",
       "      <td>A</td>\n",
       "      <td>32</td>\n",
       "      <td>23.3</td>\n",
       "      <td>S</td>\n",
       "    </tr>\n",
       "    <tr>\n",
       "      <th>3</th>\n",
       "      <td>66.0</td>\n",
       "      <td>89.0</td>\n",
       "      <td>94.0</td>\n",
       "      <td>A</td>\n",
       "      <td>21</td>\n",
       "      <td>28.1</td>\n",
       "      <td>N</td>\n",
       "    </tr>\n",
       "    <tr>\n",
       "      <th>4</th>\n",
       "      <td>40.0</td>\n",
       "      <td>137.0</td>\n",
       "      <td>168.0</td>\n",
       "      <td>O</td>\n",
       "      <td>33</td>\n",
       "      <td>43.1</td>\n",
       "      <td>S</td>\n",
       "    </tr>\n",
       "  </tbody>\n",
       "</table>\n",
       "</div>"
      ],
      "text/plain": [
       "   pressao arterial  concentraçao de glicose  insulina tipo sanguineo  idade  \\\n",
       "0              72.0                    148.0       NaN              A     50   \n",
       "1              66.0                     85.0       NaN              O     31   \n",
       "2              64.0                    183.0       NaN              A     32   \n",
       "3              66.0                     89.0      94.0              A     21   \n",
       "4              40.0                    137.0     168.0              O     33   \n",
       "\n",
       "    imc diabetico  \n",
       "0  33.6         S  \n",
       "1  26.6         N  \n",
       "2  23.3         S  \n",
       "3  28.1         N  \n",
       "4  43.1         S  "
      ]
     },
     "execution_count": 21,
     "metadata": {},
     "output_type": "execute_result"
    }
   ],
   "source": [
    "diabetes = pd.read_excel(path+'diabetes.xlsx', 'in')\n",
    "diabetes.head()"
   ]
  },
  {
   "cell_type": "code",
   "execution_count": 22,
   "id": "ac4ddbad-ceea-4789-b6d0-1e55ba568374",
   "metadata": {},
   "outputs": [
    {
     "data": {
      "text/plain": [
       "np.float64(32.457463672391015)"
      ]
     },
     "execution_count": 22,
     "metadata": {},
     "output_type": "execute_result"
    }
   ],
   "source": [
    "diabetes['imc'].mean()"
   ]
  },
  {
   "cell_type": "code",
   "execution_count": 23,
   "id": "053be319-2071-434a-9fae-3ffbd2efe6bf",
   "metadata": {},
   "outputs": [
    {
     "data": {
      "text/plain": [
       "np.float64(33.240885416666664)"
      ]
     },
     "execution_count": 23,
     "metadata": {},
     "output_type": "execute_result"
    }
   ],
   "source": [
    "diabetes['idade'].mean()"
   ]
  },
  {
   "cell_type": "code",
   "execution_count": 25,
   "id": "3e447622-cf1d-45cb-aa0e-869e812d7a59",
   "metadata": {},
   "outputs": [
    {
     "data": {
      "text/plain": [
       "idade    33.240885\n",
       "imc      32.457464\n",
       "dtype: float64"
      ]
     },
     "execution_count": 25,
     "metadata": {},
     "output_type": "execute_result"
    }
   ],
   "source": [
    "diabetes[['idade', 'imc']].mean()"
   ]
  },
  {
   "cell_type": "code",
   "execution_count": null,
   "id": "3ea9dfb1-0073-4f45-8e6d-3c2401fda2be",
   "metadata": {},
   "outputs": [],
   "source": []
  },
  {
   "cell_type": "code",
   "execution_count": null,
   "id": "749be9bc-1779-4c08-9507-b22f4c9ee385",
   "metadata": {},
   "outputs": [],
   "source": []
  }
 ],
 "metadata": {
  "kernelspec": {
   "display_name": "Python 3 (ipykernel)",
   "language": "python",
   "name": "python3"
  },
  "language_info": {
   "codemirror_mode": {
    "name": "ipython",
    "version": 3
   },
   "file_extension": ".py",
   "mimetype": "text/x-python",
   "name": "python",
   "nbconvert_exporter": "python",
   "pygments_lexer": "ipython3",
   "version": "3.12.9"
  }
 },
 "nbformat": 4,
 "nbformat_minor": 5
}

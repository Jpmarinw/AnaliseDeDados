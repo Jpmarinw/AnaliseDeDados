{
 "cells": [
  {
   "cell_type": "code",
   "execution_count": 3,
   "id": "a8e40249-13ef-4844-ade7-43f70666807e",
   "metadata": {},
   "outputs": [],
   "source": [
    "# criar sequencia python\n",
    "python_list = [i for i in range(1_000_000+1)]\n",
    "\n",
    "## Tempo de execução: 0.107s\n",
    "## Memória utilizada: 39.8 MiB"
   ]
  },
  {
   "cell_type": "code",
   "execution_count": 2,
   "id": "d26aeeab-fa9a-4ab3-8842-749741268875",
   "metadata": {},
   "outputs": [],
   "source": [
    "import numpy as np"
   ]
  },
  {
   "cell_type": "code",
   "execution_count": 5,
   "id": "4a3b2aa4-0c0b-4565-8385-3a727cf19255",
   "metadata": {},
   "outputs": [
    {
     "name": "stdout",
     "output_type": "stream",
     "text": [
      "[      0       1       2 ...  999998  999999 1000000]\n"
     ]
    }
   ],
   "source": [
    "numpy_array = np.arange(0, 1_000_000 + 1, dtype='int64')\n",
    "\n",
    "print(numpy_array)\n",
    "\n",
    "## Tempo de execução: 0.008s\n",
    "## Memória utilizada: 7.5 MiB"
   ]
  },
  {
   "cell_type": "code",
   "execution_count": 6,
   "id": "f4bb17fc-13a3-4dbf-8411-275fa099709e",
   "metadata": {},
   "outputs": [
    {
     "name": "stdout",
     "output_type": "stream",
     "text": [
      "Elementos: [1 2 3 4 5], Tipo dos elementos: int64, Tamanho do array: (5,)\n"
     ]
    }
   ],
   "source": [
    "# criando um array\n",
    "\n",
    "arr = np.array([1,2,3,4,5])\n",
    "print(f'Elementos: {arr}, Tipo dos elementos: {arr.dtype}, Tamanho do array: {arr.shape}')"
   ]
  },
  {
   "cell_type": "code",
   "execution_count": 7,
   "id": "88a43197-ac6d-4902-9219-586c3bc7e750",
   "metadata": {},
   "outputs": [
    {
     "name": "stdout",
     "output_type": "stream",
     "text": [
      "[[1. 2. 3.]\n",
      " [4. 5. 6.]\n",
      " [7. 8. 9.]]\n"
     ]
    }
   ],
   "source": [
    "# criando uma matriz\n",
    "matrix = np.arange(1., 10.).reshape((3, 3))\n",
    "print(matrix)"
   ]
  },
  {
   "cell_type": "code",
   "execution_count": 10,
   "id": "4ddf619b-e12f-446f-adeb-9589131505d4",
   "metadata": {},
   "outputs": [],
   "source": [
    "import pandas as pd"
   ]
  },
  {
   "cell_type": "code",
   "execution_count": 9,
   "id": "e763cf82-b6e3-4ecc-b587-85855c3ea309",
   "metadata": {},
   "outputs": [
    {
     "name": "stdout",
     "output_type": "stream",
     "text": [
      "Collecting pandas\n",
      "  Downloading pandas-2.2.3-cp312-cp312-win_amd64.whl.metadata (19 kB)\n",
      "Requirement already satisfied: numpy>=1.26.0 in c:\\users\\jjoao\\miniconda3\\lib\\site-packages (from pandas) (2.2.5)\n",
      "Requirement already satisfied: python-dateutil>=2.8.2 in c:\\users\\jjoao\\miniconda3\\lib\\site-packages (from pandas) (2.9.0.post0)\n",
      "Collecting pytz>=2020.1 (from pandas)\n",
      "  Downloading pytz-2025.2-py2.py3-none-any.whl.metadata (22 kB)\n",
      "Collecting tzdata>=2022.7 (from pandas)\n",
      "  Downloading tzdata-2025.2-py2.py3-none-any.whl.metadata (1.4 kB)\n",
      "Requirement already satisfied: six>=1.5 in c:\\users\\jjoao\\miniconda3\\lib\\site-packages (from python-dateutil>=2.8.2->pandas) (1.17.0)\n",
      "Downloading pandas-2.2.3-cp312-cp312-win_amd64.whl (11.5 MB)\n",
      "   ---------------------------------------- 0.0/11.5 MB ? eta -:--:--\n",
      "   ---------------------------------------- 0.0/11.5 MB ? eta -:--:--\n",
      "   ---------------------------------------- 0.0/11.5 MB ? eta -:--:--\n",
      "    --------------------------------------- 0.3/11.5 MB ? eta -:--:--\n",
      "    --------------------------------------- 0.3/11.5 MB ? eta -:--:--\n",
      "    --------------------------------------- 0.3/11.5 MB ? eta -:--:--\n",
      "    --------------------------------------- 0.3/11.5 MB ? eta -:--:--\n",
      "   - -------------------------------------- 0.5/11.5 MB 390.1 kB/s eta 0:00:29\n",
      "   - -------------------------------------- 0.5/11.5 MB 390.1 kB/s eta 0:00:29\n",
      "   -- ------------------------------------- 0.8/11.5 MB 435.8 kB/s eta 0:00:25\n",
      "   -- ------------------------------------- 0.8/11.5 MB 435.8 kB/s eta 0:00:25\n",
      "   --- ------------------------------------ 1.0/11.5 MB 470.4 kB/s eta 0:00:23\n",
      "   --- ------------------------------------ 1.0/11.5 MB 470.4 kB/s eta 0:00:23\n",
      "   ---- ----------------------------------- 1.3/11.5 MB 500.8 kB/s eta 0:00:21\n",
      "   ---- ----------------------------------- 1.3/11.5 MB 500.8 kB/s eta 0:00:21\n",
      "   ----- ---------------------------------- 1.6/11.5 MB 524.3 kB/s eta 0:00:19\n",
      "   ----- ---------------------------------- 1.6/11.5 MB 524.3 kB/s eta 0:00:19\n",
      "   ------ --------------------------------- 1.8/11.5 MB 538.3 kB/s eta 0:00:18\n",
      "   ------ --------------------------------- 1.8/11.5 MB 538.3 kB/s eta 0:00:18\n",
      "   ------- -------------------------------- 2.1/11.5 MB 559.1 kB/s eta 0:00:17\n",
      "   -------- ------------------------------- 2.4/11.5 MB 580.9 kB/s eta 0:00:16\n",
      "   -------- ------------------------------- 2.4/11.5 MB 580.9 kB/s eta 0:00:16\n",
      "   --------- ------------------------------ 2.6/11.5 MB 601.6 kB/s eta 0:00:15\n",
      "   --------- ------------------------------ 2.6/11.5 MB 601.6 kB/s eta 0:00:15\n",
      "   ---------- ----------------------------- 2.9/11.5 MB 616.8 kB/s eta 0:00:14\n",
      "   ---------- ----------------------------- 3.1/11.5 MB 636.3 kB/s eta 0:00:14\n",
      "   ----------- ---------------------------- 3.4/11.5 MB 651.6 kB/s eta 0:00:13\n",
      "   ----------- ---------------------------- 3.4/11.5 MB 651.6 kB/s eta 0:00:13\n",
      "   ------------ --------------------------- 3.7/11.5 MB 669.0 kB/s eta 0:00:12\n",
      "   ------------- -------------------------- 3.9/11.5 MB 682.8 kB/s eta 0:00:12\n",
      "   -------------- ------------------------- 4.2/11.5 MB 699.0 kB/s eta 0:00:11\n",
      "   --------------- ------------------------ 4.5/11.5 MB 712.0 kB/s eta 0:00:10\n",
      "   ---------------- ----------------------- 4.7/11.5 MB 725.7 kB/s eta 0:00:10\n",
      "   ---------------- ----------------------- 4.7/11.5 MB 725.7 kB/s eta 0:00:10\n",
      "   ----------------- ---------------------- 5.0/11.5 MB 740.2 kB/s eta 0:00:09\n",
      "   ------------------ --------------------- 5.2/11.5 MB 753.5 kB/s eta 0:00:09\n",
      "   ------------------- -------------------- 5.5/11.5 MB 766.1 kB/s eta 0:00:08\n",
      "   -------------------- ------------------- 5.8/11.5 MB 779.4 kB/s eta 0:00:08\n",
      "   --------------------- ------------------ 6.3/11.5 MB 810.6 kB/s eta 0:00:07\n",
      "   ---------------------- ----------------- 6.6/11.5 MB 825.1 kB/s eta 0:00:06\n",
      "   ----------------------- ---------------- 6.8/11.5 MB 840.5 kB/s eta 0:00:06\n",
      "   ------------------------- -------------- 7.3/11.5 MB 876.2 kB/s eta 0:00:05\n",
      "   -------------------------- ------------- 7.6/11.5 MB 891.3 kB/s eta 0:00:05\n",
      "   ---------------------------- ----------- 8.1/11.5 MB 926.8 kB/s eta 0:00:04\n",
      "   ------------------------------ --------- 8.7/11.5 MB 962.1 kB/s eta 0:00:03\n",
      "   ------------------------------- -------- 9.2/11.5 MB 997.2 kB/s eta 0:00:03\n",
      "   --------------------------------- ------ 9.7/11.5 MB 1.0 MB/s eta 0:00:02\n",
      "   ----------------------------------- ---- 10.2/11.5 MB 1.1 MB/s eta 0:00:02\n",
      "   -------------------------------------- - 11.0/11.5 MB 1.1 MB/s eta 0:00:01\n",
      "   ---------------------------------------- 11.5/11.5 MB 1.2 MB/s eta 0:00:00\n",
      "Downloading pytz-2025.2-py2.py3-none-any.whl (509 kB)\n",
      "Downloading tzdata-2025.2-py2.py3-none-any.whl (347 kB)\n",
      "Installing collected packages: pytz, tzdata, pandas\n",
      "Successfully installed pandas-2.2.3 pytz-2025.2 tzdata-2025.2\n",
      "Note: you may need to restart the kernel to use updated packages.\n"
     ]
    }
   ],
   "source": [
    "pip install pandas"
   ]
  },
  {
   "cell_type": "code",
   "execution_count": null,
   "id": "38e0a4c4-d799-4413-81f8-e60f0a8619e8",
   "metadata": {},
   "outputs": [],
   "source": []
  }
 ],
 "metadata": {
  "kernelspec": {
   "display_name": "Python 3 (ipykernel)",
   "language": "python",
   "name": "python3"
  },
  "language_info": {
   "codemirror_mode": {
    "name": "ipython",
    "version": 3
   },
   "file_extension": ".py",
   "mimetype": "text/x-python",
   "name": "python",
   "nbconvert_exporter": "python",
   "pygments_lexer": "ipython3",
   "version": "3.12.9"
  }
 },
 "nbformat": 4,
 "nbformat_minor": 5
}

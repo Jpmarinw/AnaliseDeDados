{
 "cells": [
  {
   "cell_type": "code",
   "execution_count": 1,
   "id": "8751bc10-ce7c-43b5-ba8a-e8b64bca8fa1",
   "metadata": {},
   "outputs": [],
   "source": [
    "import pandas as pd\n",
    "import matplotlib.pyplot as plt"
   ]
  },
  {
   "cell_type": "code",
   "execution_count": 2,
   "id": "d35c7bf3-1408-4b53-a8cd-570a92d45ea6",
   "metadata": {},
   "outputs": [],
   "source": [
    "path = 'C:/Users/jjoao/AnaliseDeDados/arquivos/'"
   ]
  },
  {
   "cell_type": "code",
   "execution_count": 3,
   "id": "cd85dae6-780f-4e97-b8d7-c36244a1473b",
   "metadata": {},
   "outputs": [
    {
     "data": {
      "text/html": [
       "<div>\n",
       "<style scoped>\n",
       "    .dataframe tbody tr th:only-of-type {\n",
       "        vertical-align: middle;\n",
       "    }\n",
       "\n",
       "    .dataframe tbody tr th {\n",
       "        vertical-align: top;\n",
       "    }\n",
       "\n",
       "    .dataframe thead th {\n",
       "        text-align: right;\n",
       "    }\n",
       "</style>\n",
       "<table border=\"1\" class=\"dataframe\">\n",
       "  <thead>\n",
       "    <tr style=\"text-align: right;\">\n",
       "      <th></th>\n",
       "      <th>Unnamed: 0.1</th>\n",
       "      <th>Unnamed: 0</th>\n",
       "      <th>Text</th>\n",
       "      <th>Sentiment</th>\n",
       "      <th>Timestamp</th>\n",
       "      <th>User</th>\n",
       "      <th>Platform</th>\n",
       "      <th>Hashtags</th>\n",
       "      <th>Retweets</th>\n",
       "      <th>Likes</th>\n",
       "      <th>Country</th>\n",
       "      <th>Year</th>\n",
       "      <th>Month</th>\n",
       "      <th>Day</th>\n",
       "      <th>Hour</th>\n",
       "    </tr>\n",
       "  </thead>\n",
       "  <tbody>\n",
       "    <tr>\n",
       "      <th>0</th>\n",
       "      <td>0</td>\n",
       "      <td>0</td>\n",
       "      <td>Enjoying a beautiful day at the park!        ...</td>\n",
       "      <td>Positive</td>\n",
       "      <td>2023-01-15 12:30:00</td>\n",
       "      <td>User123</td>\n",
       "      <td>Twitter</td>\n",
       "      <td>#Nature #Park</td>\n",
       "      <td>15</td>\n",
       "      <td>30</td>\n",
       "      <td>USA</td>\n",
       "      <td>2023</td>\n",
       "      <td>1</td>\n",
       "      <td>15</td>\n",
       "      <td>12</td>\n",
       "    </tr>\n",
       "    <tr>\n",
       "      <th>1</th>\n",
       "      <td>1</td>\n",
       "      <td>1</td>\n",
       "      <td>Traffic was terrible this morning.           ...</td>\n",
       "      <td>Negative</td>\n",
       "      <td>2023-01-15 08:45:00</td>\n",
       "      <td>CommuterX</td>\n",
       "      <td>Twitter</td>\n",
       "      <td>#Traffic #Morning</td>\n",
       "      <td>5</td>\n",
       "      <td>10</td>\n",
       "      <td>Canada</td>\n",
       "      <td>2023</td>\n",
       "      <td>1</td>\n",
       "      <td>15</td>\n",
       "      <td>8</td>\n",
       "    </tr>\n",
       "    <tr>\n",
       "      <th>2</th>\n",
       "      <td>2</td>\n",
       "      <td>2</td>\n",
       "      <td>Just finished an amazing workout! ðŸ’ª       ...</td>\n",
       "      <td>Positive</td>\n",
       "      <td>2023-01-15 15:45:00</td>\n",
       "      <td>FitnessFan</td>\n",
       "      <td>Instagram</td>\n",
       "      <td>#Fitness #Workout</td>\n",
       "      <td>20</td>\n",
       "      <td>40</td>\n",
       "      <td>USA</td>\n",
       "      <td>2023</td>\n",
       "      <td>1</td>\n",
       "      <td>15</td>\n",
       "      <td>15</td>\n",
       "    </tr>\n",
       "    <tr>\n",
       "      <th>3</th>\n",
       "      <td>3</td>\n",
       "      <td>3</td>\n",
       "      <td>Excited about the upcoming weekend getaway!  ...</td>\n",
       "      <td>Positive</td>\n",
       "      <td>2023-01-15 18:20:00</td>\n",
       "      <td>AdventureX</td>\n",
       "      <td>Facebook</td>\n",
       "      <td>#Travel #Adventure</td>\n",
       "      <td>8</td>\n",
       "      <td>15</td>\n",
       "      <td>UK</td>\n",
       "      <td>2023</td>\n",
       "      <td>1</td>\n",
       "      <td>15</td>\n",
       "      <td>18</td>\n",
       "    </tr>\n",
       "    <tr>\n",
       "      <th>4</th>\n",
       "      <td>4</td>\n",
       "      <td>4</td>\n",
       "      <td>Trying out a new recipe for dinner tonight.  ...</td>\n",
       "      <td>Neutral</td>\n",
       "      <td>2023-01-15 19:55:00</td>\n",
       "      <td>ChefCook</td>\n",
       "      <td>Instagram</td>\n",
       "      <td>#Cooking #Food</td>\n",
       "      <td>12</td>\n",
       "      <td>25</td>\n",
       "      <td>Australia</td>\n",
       "      <td>2023</td>\n",
       "      <td>1</td>\n",
       "      <td>15</td>\n",
       "      <td>19</td>\n",
       "    </tr>\n",
       "  </tbody>\n",
       "</table>\n",
       "</div>"
      ],
      "text/plain": [
       "   Unnamed: 0.1  Unnamed: 0  \\\n",
       "0             0           0   \n",
       "1             1           1   \n",
       "2             2           2   \n",
       "3             3           3   \n",
       "4             4           4   \n",
       "\n",
       "                                                Text    Sentiment  \\\n",
       "0   Enjoying a beautiful day at the park!        ...   Positive     \n",
       "1   Traffic was terrible this morning.           ...   Negative     \n",
       "2   Just finished an amazing workout! ðŸ’ª       ...   Positive     \n",
       "3   Excited about the upcoming weekend getaway!  ...   Positive     \n",
       "4   Trying out a new recipe for dinner tonight.  ...   Neutral      \n",
       "\n",
       "            Timestamp            User     Platform  \\\n",
       "0 2023-01-15 12:30:00   User123          Twitter     \n",
       "1 2023-01-15 08:45:00   CommuterX        Twitter     \n",
       "2 2023-01-15 15:45:00   FitnessFan      Instagram    \n",
       "3 2023-01-15 18:20:00   AdventureX       Facebook    \n",
       "4 2023-01-15 19:55:00   ChefCook        Instagram    \n",
       "\n",
       "                                     Hashtags  Retweets  Likes       Country  \\\n",
       "0   #Nature #Park                                    15     30     USA         \n",
       "1   #Traffic #Morning                                 5     10     Canada      \n",
       "2   #Fitness #Workout                                20     40   USA           \n",
       "3   #Travel #Adventure                                8     15     UK          \n",
       "4   #Cooking #Food                                   12     25    Australia    \n",
       "\n",
       "   Year  Month  Day  Hour  \n",
       "0  2023      1   15    12  \n",
       "1  2023      1   15     8  \n",
       "2  2023      1   15    15  \n",
       "3  2023      1   15    18  \n",
       "4  2023      1   15    19  "
      ]
     },
     "execution_count": 3,
     "metadata": {},
     "output_type": "execute_result"
    }
   ],
   "source": [
    "df = pd.read_excel(path + 'sentiment_dataset.xlsx')\n",
    "df.head()"
   ]
  },
  {
   "cell_type": "code",
   "execution_count": 4,
   "id": "08103a99-3c78-45a6-8a9b-30e64dae8ffc",
   "metadata": {},
   "outputs": [
    {
     "data": {
      "text/plain": [
       "Country\n",
       "USA           59\n",
       "USA           55\n",
       "UK            49\n",
       "Canada        44\n",
       "Australia     41\n",
       "              ..\n",
       "Ireland        1\n",
       "Scotland       1\n",
       "Kenya          1\n",
       "Jamaica        1\n",
       "Thailand       1\n",
       "Name: count, Length: 115, dtype: int64"
      ]
     },
     "execution_count": 4,
     "metadata": {},
     "output_type": "execute_result"
    }
   ],
   "source": [
    "df['Country'].value_counts()"
   ]
  },
  {
   "cell_type": "code",
   "execution_count": 5,
   "id": "0dccaaf6-0fd2-4e74-af37-7cefd7d7783c",
   "metadata": {},
   "outputs": [
    {
     "data": {
      "text/plain": [
       "array([' Positive  ', ' Negative  ', ' Positive  ', ' Positive  ',\n",
       "       ' Neutral   ', ' Positive  ', ' Positive  ', ' Positive  ',\n",
       "       ' Negative  ', ' Neutral   ', ' Positive  ', ' Negative  ',\n",
       "       ' Positive  ', ' Positive  ', ' Neutral   ', ' Positive  ',\n",
       "       ' Positive  ', ' Positive  ', ' Neutral   ', ' Negative  ',\n",
       "       ' Positive  ', ' Positive  ', ' Positive  ', ' Positive  ',\n",
       "       ' Positive  ', ' Positive  ', ' Positive  ', ' Positive  ',\n",
       "       ' Positive  ', ' Positive  ', ' Positive  ', ' Positive  ',\n",
       "       ' Positive  ', ' Positive  ', ' Positive  ', ' Positive  ',\n",
       "       ' Positive  ', ' Positive  ', ' Positive  ', ' Positive  ',\n",
       "       ' Positive  ', ' Positive  ', ' Positive  ', ' Positive  ',\n",
       "       ' Positive  ', ' Positive  ', ' Positive  ', ' Positive  ',\n",
       "       ' Positive  ', ' Positive  ', ' Positive  ', ' Positive  ',\n",
       "       ' Anger        ', ' Fear         ', ' Sadness      ',\n",
       "       ' Disgust      ', ' Happiness    ', ' Joy          ',\n",
       "       ' Love         ', ' Amusement    ', ' Enjoyment    ',\n",
       "       ' Admiration   ', ' Affection    ', ' Awe          ',\n",
       "       ' Disappointed ', ' Surprise     ', ' Acceptance   ',\n",
       "       ' Adoration    ', ' Anticipation ', ' Bitter       ',\n",
       "       ' Calmness     ', ' Confusion    ', ' Excitement   ',\n",
       "       ' Kind         ', ' Pride        ', ' Shame        ',\n",
       "       ' Anger        ', ' Fear         ', ' Sadness      ',\n",
       "       ' Disgust      ', ' Happiness    ', ' Joy          ',\n",
       "       ' Love         ', ' Amusement    ', ' Enjoyment    ',\n",
       "       ' Admiration   ', ' Affection    ', ' Awe          ',\n",
       "       ' Disappointed ', ' Surprise     ', ' Acceptance   ',\n",
       "       ' Adoration    ', ' Anticipation ', ' Bitter       ',\n",
       "       ' Calmness     ', ' Confusion    ', ' Excitement   ',\n",
       "       ' Kind         ', ' Pride        ', ' Shame        ',\n",
       "       ' Acceptance   ', ' Excitement   ', ' Bitter       ',\n",
       "       ' Calmness     ', ' Confusion ', ' Excitement ', ' Kind         ',\n",
       "       ' Pride        ', ' Shame ', ' Elation       ', ' Euphoria      ',\n",
       "       ' Contentment   ', ' Serenity      ', ' Gratitude     ',\n",
       "       ' Hope          ', ' Empowerment   ', ' Compassion    ',\n",
       "       ' Tenderness    ', ' Arousal       ', ' Enthusiasm    ',\n",
       "       ' Fulfillment  ', ' Reverence     ', ' Elation       ',\n",
       "       ' Euphoria      ', ' Contentment   ', ' Serenity      ',\n",
       "       ' Gratitude     ', ' Hope          ', ' Empowerment   ',\n",
       "       ' Compassion    ', ' Tenderness    ', ' Arousal       ',\n",
       "       ' Enthusiasm    ', ' Fulfillment  ', ' Reverence     ',\n",
       "       ' Elation       ', ' Elation       ', ' Euphoria      ',\n",
       "       ' Contentment   ', ' Serenity      ', ' Gratitude     ',\n",
       "       ' Hope          ', ' Empowerment   ', ' Compassion',\n",
       "       ' Tenderness    ', ' Arousal       ', ' Enthusiasm    ',\n",
       "       ' Fulfillment   ', ' Reverence ', ' Elation       ',\n",
       "       ' Euphoria      ', ' Contentment   ', ' Serenity      ',\n",
       "       ' Gratitude     ', ' Hope          ', ' Empowerment   ',\n",
       "       ' Compassion    ', ' Tenderness    ', ' Arousal       ',\n",
       "       ' Enthusiasm    ', ' Fulfillment   ', ' Reverence ', ' Elation   ',\n",
       "       ' Despair         ', ' Grief           ', ' Loneliness      ',\n",
       "       ' Jealousy        ', ' Resentment      ', ' Frustration     ',\n",
       "       ' Boredom         ', ' Anxiety         ', ' Intimidation    ',\n",
       "       ' Helplessness    ', ' Envy            ', ' Regret         ',\n",
       "       ' Disgust         ', ' Despair      ', ' Grief           ',\n",
       "       ' Loneliness ', ' Jealousy        ', ' Resentment      ',\n",
       "       ' Frustration ', ' Boredom         ', ' Anxiety   ',\n",
       "       ' Intimidation ', ' Helplessness ', ' Envy            ',\n",
       "       ' Regret         ', ' Disgust         ', ' Despair         ',\n",
       "       ' Grief           ', ' Loneliness ', ' Jealousy    ',\n",
       "       ' Resentment      ', ' Frustration     ', ' Boredom         ',\n",
       "       ' Curiosity       ', ' Indifference    ', ' Confusion       ',\n",
       "       ' Numbness        ', ' Melancholy      ', ' Nostalgia       ',\n",
       "       ' Ambivalence     ', ' Acceptance      ', ' Determination   ',\n",
       "       ' Serenity        ', ' Curiosity       ', ' Indifference    ',\n",
       "       ' Confusion       ', ' Numbness        ', ' Melancholy      ',\n",
       "       ' Nostalgia       ', ' Ambivalence     ', ' Acceptance      ',\n",
       "       ' Determination   ', ' Serenity        ', ' Curiosity       ',\n",
       "       ' Indifference    ', ' Confusion       ', ' Numbness        ',\n",
       "       ' Melancholy      ', ' Nostalgia       ', ' Ambivalence     ',\n",
       "       ' Acceptance      ', ' Determination   ', ' Serenity        ',\n",
       "       ' Indifference    ', ' Confusion       ', ' Numbness        ',\n",
       "       ' Melancholy      ', ' Nostalgia       ', ' Ambivalence     ',\n",
       "       ' Acceptance      ', ' Determination   ', ' Serenity        ',\n",
       "       ' Curiosity       ', ' Indifference    ', ' Confusion       ',\n",
       "       ' Numbness        ', ' Melancholy      ', ' Nostalgia       ',\n",
       "       ' Ambivalence     ', ' Acceptance      ', ' Determination   ',\n",
       "       ' Serenity        ', ' Curiosity       ', ' Numbness ', ' Zest ',\n",
       "       ' Contentment ', ' Hopeful ', ' Proud ', ' Grateful ',\n",
       "       ' Empathetic ', ' Compassionate ', ' Playful ', ' Free-spirited ',\n",
       "       ' Inspired ', ' Hopeful ', ' Confident ', ' Serenity ',\n",
       "       ' Curiosity ', ' Ambivalence ', ' Grateful ', ' Zest ',\n",
       "       ' Compassionate ', ' Proud ', ' Hopeful ', ' Playful ',\n",
       "       ' Inspired ', ' Contentment ', ' Empathetic ', ' Free-spirited ',\n",
       "       ' Grateful ', ' Confident ', ' Hopeful ', ' Playful ',\n",
       "       ' Inspired ', ' Hopeful ', ' Compassionate ', ' Proud ',\n",
       "       ' Hopeful ', ' Playful ', ' Inspired ', ' Contentment ',\n",
       "       ' Empathetic ', ' Free-spirited ', ' Grateful ', ' Confident ',\n",
       "       ' Hopeful ', ' Playful ', ' Inspired ', ' Hopeful ',\n",
       "       ' Compassionate ', ' Proud ', ' Hopeful ', ' Playful ',\n",
       "       ' Despair ', ' Bitterness ', ' Loneliness ', ' Yearning ',\n",
       "       ' Fearful ', ' Apprehensive ', ' Overwhelmed ', ' Jealous ',\n",
       "       ' Devastated ', ' Frustrated ', ' Envious ', ' Dismissive ',\n",
       "       ' Frustrated ', ' Loneliness ', ' Fearful ', ' Bitterness ',\n",
       "       ' Overwhelmed ', ' Jealous ', ' Devastated ', ' Frustrated ',\n",
       "       ' Envious ', ' Dismissive ', ' Despair ', ' Bitterness ',\n",
       "       ' Loneliness ', ' Yearning ', ' Fearful ', ' Apprehensive ',\n",
       "       ' Overwhelmed ', ' Jealous ', ' Devastated ', ' Frustrated ',\n",
       "       ' Envious ', ' Dismissive ', ' Frustrated ', ' Loneliness ',\n",
       "       ' Awe           ', ' Determination ', ' Nostalgia      ',\n",
       "       ' Thrill        ', ' Calmness      ', ' Overwhelmed   ',\n",
       "       ' Excitement ', ' Gratitude   ', ' Bittersweet ',\n",
       "       ' Curiosity     ', ' Admiration    ', ' Overjoyed     ',\n",
       "       ' Inspiration   ', ' Motivation    ', ' Gratitude     ',\n",
       "       ' Empowerment   ', ' Amusement     ', ' Contemplation ',\n",
       "       ' JoyfulReunion ', ' Excitement    ', ' Satisfaction  ',\n",
       "       ' Blessed       ', ' Serenity      ', ' Anticipation  ',\n",
       "       ' Reflection    ', ' Nostalgia     ', ' Appreciation  ',\n",
       "       ' Confidence    ', ' Contentment   ', ' Enthusiasm    ',\n",
       "       ' Surprise      ', ' Accomplishment ', ' Wonderment    ',\n",
       "       ' Optimism      ', ' Pride         ', ' Happiness     ',\n",
       "       ' Elation       ', ' Curiosity   ', ' Enchantment   ',\n",
       "       ' Intrigue      ', ' PlayfulJoy    ', ' Mindfulness   ',\n",
       "       ' DreamChaser   ', ' Elegance ', ' Whimsy        ', ' Pensive ',\n",
       "       ' Thrill      ', ' Harmony    ', ' Creativity   ', ' Radiance    ',\n",
       "       ' Wonder     ', ' Rejuvenation ', ' Inspiration ',\n",
       "       ' Coziness     ', ' Gratitude  ', ' Adventure ', ' Euphoria   ',\n",
       "       ' Awe    ', ' Enchantment   ', ' Melodic       ',\n",
       "       ' FestiveJoy    ', ' InnerJourney  ', ' Freedom       ',\n",
       "       ' Dazzle        ', ' Whimsy        ', ' Reflection    ',\n",
       "       ' Adrenaline     ', ' Harmony       ', ' ArtisticBurst ',\n",
       "       ' Radiance      ', ' Wonder       ', ' Rejuvenation ',\n",
       "       ' Inspiration  ', ' Coziness     ', ' Gratitude  ',\n",
       "       ' CulinaryOdyssey ', ' Euphoria     ', ' Awe    ', ' Curiosity  ',\n",
       "       ' Excitement   ', ' Contentment ', ' Resilience   ', ' Immersion ',\n",
       "       ' Nostalgia ', ' Spark        ', ' Gratitude    ',\n",
       "       ' Marvel       ', ' Serenity   ', ' Heartbreak    ',\n",
       "       ' Loneliness    ', ' Grief      ', ' Despair   ',\n",
       "       ' Betrayal      ', ' Suffering ', ' EmotionalStorm ',\n",
       "       ' Regret        ', ' Grief      ', ' Isolation ',\n",
       "       ' Disappointment ', ' LostLove ', ' Despair   ', ' Melancholy ',\n",
       "       ' Bitterness ', ' Exhaustion ', ' Sorrow      ', ' Darkness     ',\n",
       "       ' Desperation ', ' Ruins      ', ' Desolation ', ' Regret ',\n",
       "       ' Grief ', ' Loneliness ', ' Bitterness ', ' Desolation ',\n",
       "       ' Heartbreak ', ' Grief ', ' Betrayal ', ' Resilience ',\n",
       "       ' Isolation ', ' Regret ', ' Despair ', ' Sorrow ', ' Desolation ',\n",
       "       ' Grief ', ' Betrayal ', ' Heartbreak ', ' Despair ', ' Loss ',\n",
       "       ' Heartache ', ' Nostalgia ', ' Grief ', ' Betrayal ', ' Despair ',\n",
       "       ' Desolation ', ' Regret ', ' Loss ', ' Betrayal ', ' Solitude ',\n",
       "       ' Joy ', ' Happiness ', ' Contentment ', ' Enthusiasm ',\n",
       "       ' Gratitude ', ' Accomplishment ', ' Positivity ', ' Joy ',\n",
       "       ' Kindness ', ' Friendship ', ' Love ', ' Joy ', ' Excitement ',\n",
       "       ' Surprise ', ' Curiosity ', ' Gratitude ', ' Inspiration ',\n",
       "       ' Success ', ' Happiness ', ' Thrill ', ' Reflection ',\n",
       "       ' Enchantment ', ' Excitement ', ' Joy ', ' Exploration ', ' Awe ',\n",
       "       ' Serenity ', ' Amazement ', ' Romance ', ' Awe ', ' Excitement ',\n",
       "       ' Captivation ', ' Serenity ', ' Wonder ', ' Awe ',\n",
       "       ' Accomplishment ', ' Exploration ', ' Adventure ',\n",
       "       ' Tranquility ', ' Grandeur ', ' Emotion ', ' Energy ',\n",
       "       ' Enchantment ', ' Nostalgia ', ' Serenity ', ' Joy ',\n",
       "       ' Celebration ', ' Charm ', ' Ecstasy ', ' Hope ', ' Enthusiasm ',\n",
       "       ' Creativity ', ' Emotion ', ' Colorful ', ' Pride ', ' Hypnotic ',\n",
       "       ' Connection ', ' Iconic ', ' Euphoria ', ' Journey ',\n",
       "       ' Excitement ', ' Nostalgia ', ' Engagement ', ' Pride ',\n",
       "       ' Touched ', ' Gratitude ', ' Inspiration ', ' Contemplation ',\n",
       "       ' Suspense ', ' Satisfaction ', ' Joy ', ' Inspiration ',\n",
       "       ' Excitement ', ' Admiration ', ' Captivation ', ' Triumph ',\n",
       "       ' Awe ', ' Thrill ', ' Determination ', ' Heartwarming ',\n",
       "       ' Disappointment ', ' Frustration ', ' Reflection ', ' Obstacle ',\n",
       "       ' Sympathy ', ' Pressure ', ' Renewed Effort ', ' Miscalculation ',\n",
       "       ' Challenge ', ' Despair ', ' Tranquility ', ' Adventure ',\n",
       "       ' Solace ', ' Creativity ', ' Breakthrough ', ' Harmony ',\n",
       "       ' Joy in Baking ', ' Envisioning History ', ' Imagination ',\n",
       "       ' Vibrancy ', ' Mesmerizing ', ' Culinary Adventure ',\n",
       "       ' Winter Magic ', ' Thrilling Journey ', \" Nature's Beauty \",\n",
       "       ' Celestial Wonder ', ' Creative Inspiration ',\n",
       "       ' Runway Creativity ', \" Ocean's Freedom \",\n",
       "       ' Whispers of the Past ', ' Excitement ', ' Boredom ', ' Joy ',\n",
       "       ' Frustration ', ' Surprise ', ' Indifference ', ' Satisfaction ',\n",
       "       ' Disgust ', ' Surprise ', ' Joy ', ' Excitement ', ' Joy ',\n",
       "       ' Excitement ', ' Frustration ', ' Joy ', ' Pride ',\n",
       "       ' Excitement ', ' Joy ', ' Joy ', ' Excitement ', ' Curiosity ',\n",
       "       ' Curiosity ', ' Contentment ', ' Gratitude ', ' Curiosity ',\n",
       "       ' Contentment ', ' Curiosity ', ' Joy ', ' Joy ', ' Contentment ',\n",
       "       ' Joy ', ' Joy ', ' Contentment ', ' Contentment ',\n",
       "       ' Contentment ', ' Joy ', ' Gratitude ', ' Curiosity ',\n",
       "       ' Contentment ', ' Joy ', ' Joy ', ' Gratitude ', ' Excitement ',\n",
       "       ' Joy ', ' Joy ', ' Contentment ', ' Joy ', ' Joy ', ' Joy ',\n",
       "       ' Contentment ', ' Joy ', ' Excitement ', ' Gratitude ',\n",
       "       ' Excitement ', ' Joy ', ' Joy ', ' Joy ', ' Gratitude ',\n",
       "       ' Curiosity ', ' Joy ', ' Gratitude ', ' Excitement ', ' Relief ',\n",
       "       ' Excitement ', ' Excitement ', ' Joy ', ' Excitement ',\n",
       "       ' Positive ', ' Embarrassed ', ' Excitement ', ' Joy ', ' Joy ',\n",
       "       ' Joy ', ' Excitement ', ' Excitement ', ' Joy ', ' Excitement ',\n",
       "       ' Mischievous ', ' Excitement ', ' Embarrassed ', ' Embarrassed ',\n",
       "       ' Embarrassed ', ' Joy ', ' Excitement ', ' Mischievous ',\n",
       "       ' Excitement ', ' Joy ', ' Embarrassed ', ' Embarrassed ', ' Joy ',\n",
       "       ' Excitement ', ' Joy ', ' Excitement ', ' Joy ', ' Embarrassed ',\n",
       "       ' Excitement ', ' Joy ', ' Excitement ', ' Joy ', ' Excitement ',\n",
       "       ' Joy ', ' Embarrassed ', ' Excitement ', ' Sad ', ' Hate ',\n",
       "       ' Bad ', ' Sad ', ' Hate ', ' Bad ', ' Sad ', ' Sad ', ' Hate ',\n",
       "       ' Bad ', ' Sad ', ' Hate ', ' Bad ', ' Sad ', ' Sad ', ' Hate ',\n",
       "       ' Bad ', ' Sad ', ' Hate ', ' Bad ', ' Sad ', ' Neutral ',\n",
       "       ' Neutral ', ' Neutral ', ' Neutral ', ' Neutral ', ' Neutral ',\n",
       "       ' Neutral ', ' Neutral ', ' Neutral ', ' Neutral ', ' Neutral ',\n",
       "       ' Neutral ', ' Neutral ', ' Neutral ', ' Happy ', ' Happy ',\n",
       "       ' Happy ', ' Happy ', ' Happy ', ' Happy ', ' Happy ', ' Happy ',\n",
       "       ' Happy ', ' Happy ', ' Happy ', ' Happy ', ' Happy ', ' Happy '],\n",
       "      dtype=object)"
      ]
     },
     "execution_count": 5,
     "metadata": {},
     "output_type": "execute_result"
    }
   ],
   "source": [
    "df['Sentiment'].values"
   ]
  },
  {
   "cell_type": "markdown",
   "id": "a669a5a6-ee59-47ff-a52d-bc8881135a19",
   "metadata": {},
   "source": [
    "##  Removendo espaços extras das strings"
   ]
  },
  {
   "cell_type": "code",
   "execution_count": 6,
   "id": "9b9338ee-592a-4fc4-a646-342a8f7a7023",
   "metadata": {},
   "outputs": [],
   "source": [
    "df['Sentiment'] = df['Sentiment'].str.strip()\n",
    "df['Country'] = df['Country'].str.strip()"
   ]
  },
  {
   "cell_type": "markdown",
   "id": "8b780674-033b-4147-9d33-6ae6e5d57161",
   "metadata": {},
   "source": [
    "## Filtrando as linhas que correspondem ao país 'USA'"
   ]
  },
  {
   "cell_type": "code",
   "execution_count": 7,
   "id": "0c7d87b5-72a8-4870-8b64-64dbd4a36c4d",
   "metadata": {},
   "outputs": [],
   "source": [
    "df_new = df[df['Country'] == 'USA']"
   ]
  },
  {
   "cell_type": "markdown",
   "id": "17ee584e-3fe6-4a56-a979-2b0aa0571a45",
   "metadata": {},
   "source": [
    "## Boxplot"
   ]
  },
  {
   "cell_type": "code",
   "execution_count": 8,
   "id": "25884fb7-faa7-4732-b56f-88aebc63dd58",
   "metadata": {},
   "outputs": [
    {
     "name": "stderr",
     "output_type": "stream",
     "text": [
      "C:\\Users\\jjoao\\AppData\\Local\\Temp\\ipykernel_24556\\3976134571.py:2: MatplotlibDeprecationWarning: The 'labels' parameter of boxplot() has been renamed 'tick_labels' since Matplotlib 3.9; support for the old name will be dropped in 3.11.\n",
      "  ax.boxplot([df_new['Likes']], labels=['USA'])\n"
     ]
    },
    {
     "data": {
      "image/png": "[encoded data removed]",
      "text/plain": [
       "<Figure size 640x480 with 1 Axes>"
      ]
     },
     "metadata": {},
     "output_type": "display_data"
    }
   ],
   "source": [
    "fis, ax = plt.subplots()\n",
    "ax.boxplot([df_new['Likes']], labels=['USA'])\n",
    "ax.set_title('País x Likes')\n",
    "plt.show()"
   ]
  },
  {
   "cell_type": "code",
   "execution_count": 9,
   "id": "cc7b6652-9578-402e-b5c0-fe6e2ec16c66",
   "metadata": {},
   "outputs": [],
   "source": [
    "df_new3 = df_new[df_new['Sentiment'] == 'Positive']"
   ]
  },
  {
   "cell_type": "code",
   "execution_count": 12,
   "id": "099757ce-4e7a-4707-b176-1e17101f155f",
   "metadata": {},
   "outputs": [
    {
     "data": {
      "text/plain": [
       "Sentiment\n",
       "Positive       18\n",
       "Joy            17\n",
       "Excitement     10\n",
       "Neutral         6\n",
       "Happy           5\n",
       "               ..\n",
       "Adventure       1\n",
       "Pressure        1\n",
       "Triumph         1\n",
       "Inspiration     1\n",
       "Relief          1\n",
       "Name: count, Length: 79, dtype: int64"
      ]
     },
     "execution_count": 12,
     "metadata": {},
     "output_type": "execute_result"
    }
   ],
   "source": [
    "df_new['Sentiment'].value_counts()"
   ]
  },
  {
   "cell_type": "markdown",
   "id": "331f37ba-d5c9-4b8c-b918-a71b68845dfc",
   "metadata": {},
   "source": [
    "## Subplot de Boxplot"
   ]
  },
  {
   "cell_type": "code",
   "execution_count": 13,
   "id": "ccd04ad3-a380-4428-aabd-12efa3600ad0",
   "metadata": {},
   "outputs": [
    {
     "name": "stderr",
     "output_type": "stream",
     "text": [
      "C:\\Users\\jjoao\\AppData\\Local\\Temp\\ipykernel_24556\\202102590.py:2: MatplotlibDeprecationWarning: The 'labels' parameter of boxplot() has been renamed 'tick_labels' since Matplotlib 3.9; support for the old name will be dropped in 3.11.\n",
      "  ax.boxplot([df_new['Likes'], df_new3['Likes']], labels=['USA', 'Positive'])\n"
     ]
    },
    {
     "data": {
      "image/png": "[encoded data removed]",
      "text/plain": [
       "<Figure size 640x480 with 1 Axes>"
      ]
     },
     "metadata": {},
     "output_type": "display_data"
    }
   ],
   "source": [
    "fis, ax = plt.subplots()\n",
    "ax.boxplot([df_new['Likes'], df_new3['Likes']], labels=['USA', 'Positive'])\n",
    "ax.set_title('País x Likes')\n",
    "plt.show()"
   ]
  },
  {
   "cell_type": "code",
   "execution_count": null,
   "id": "0334bb40-a255-4bbe-954a-d89de51b107e",
   "metadata": {},
   "outputs": [],
   "source": []
  },
  {
   "cell_type": "code",
   "execution_count": null,
   "id": "73e6f7fd-2a86-4cbb-a6f9-5ba458227dec",
   "metadata": {},
   "outputs": [],
   "source": []
  }
 ],
 "metadata": {
  "kernelspec": {
   "display_name": "Python 3 (ipykernel)",
   "language": "python",
   "name": "python3"
  },
  "language_info": {
   "codemirror_mode": {
    "name": "ipython",
    "version": 3
   },
   "file_extension": ".py",
   "mimetype": "text/x-python",
   "name": "python",
   "nbconvert_exporter": "python",
   "pygments_lexer": "ipython3",
   "version": "3.12.9"
  }
 },
 "nbformat": 4,
 "nbformat_minor": 5
}

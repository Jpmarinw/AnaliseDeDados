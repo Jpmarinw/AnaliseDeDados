{
 "cells": [
  {
   "cell_type": "markdown",
   "id": "54d45180-900b-4e9a-af3f-3097a48cad6c",
   "metadata": {},
   "source": [
    "## Comnpreendendo Variância e Desvio Padrão"
   ]
  },
  {
   "cell_type": "code",
   "execution_count": 7,
   "id": "78bad7db-8d23-4fb0-8fd5-0d8a6cee9427",
   "metadata": {},
   "outputs": [
    {
     "name": "stdout",
     "output_type": "stream",
     "text": [
      "Média lista 1: 3.3333333333333335\n",
      "Média lista 2: 3.5\n"
     ]
    }
   ],
   "source": [
    "import statistics\n",
    "\n",
    "lst1 = [0, 1, 2, 3, 3, 3, 4, 4, 4, 5, 5, 6]\n",
    "lst2 = [0, -1, -2, 30, 3, 3, 4, 40, 4, -50, 5, 6]\n",
    "\n",
    "print(f'Média lista 1: {statistics.mean(lst1)}')\n",
    "print(f'Média lista 2: {statistics.mean(lst2)}')"
   ]
  },
  {
   "cell_type": "code",
   "execution_count": 3,
   "id": "ec25c1c5-b722-4808-a8e7-ffd1a598b8cc",
   "metadata": {},
   "outputs": [
    {
     "data": {
      "text/plain": [
       "2.9696969696969697"
      ]
     },
     "execution_count": 3,
     "metadata": {},
     "output_type": "execute_result"
    }
   ],
   "source": [
    "statistics.variance(lst1)"
   ]
  },
  {
   "cell_type": "code",
   "execution_count": 4,
   "id": "b447ff5c-93ff-4717-91e3-be3e98937f16",
   "metadata": {},
   "outputs": [
    {
     "data": {
      "text/plain": [
       "451.72727272727275"
      ]
     },
     "execution_count": 4,
     "metadata": {},
     "output_type": "execute_result"
    }
   ],
   "source": [
    "statistics.variance(lst2)"
   ]
  },
  {
   "cell_type": "code",
   "execution_count": 5,
   "id": "592ea2e2-33ce-4260-9c31-4a9bf2ab32fd",
   "metadata": {},
   "outputs": [
    {
     "data": {
      "text/plain": [
       "[-50, -2, -1, 0, 3, 3, 4, 4, 5, 6, 30, 40]"
      ]
     },
     "execution_count": 5,
     "metadata": {},
     "output_type": "execute_result"
    }
   ],
   "source": [
    "sorted(lst2)"
   ]
  },
  {
   "cell_type": "code",
   "execution_count": 6,
   "id": "a47aa2b9-d531-4b1a-a901-045aa2ee2485",
   "metadata": {},
   "outputs": [
    {
     "data": {
      "text/plain": [
       "3.5"
      ]
     },
     "execution_count": 6,
     "metadata": {},
     "output_type": "execute_result"
    }
   ],
   "source": [
    "m = statistics.mean(lst2)\n",
    "m"
   ]
  },
  {
   "cell_type": "code",
   "execution_count": 8,
   "id": "3714980c-809e-48c9-8107-12ecffa822a6",
   "metadata": {},
   "outputs": [
    {
     "data": {
      "text/plain": [
       "21.253876651737507"
      ]
     },
     "execution_count": 8,
     "metadata": {},
     "output_type": "execute_result"
    }
   ],
   "source": [
    "dp = statistics.stdev(lst2)\n",
    "dp"
   ]
  },
  {
   "cell_type": "code",
   "execution_count": 9,
   "id": "e6df4b0d-8c09-4d3f-93a2-5f761e8a9318",
   "metadata": {},
   "outputs": [
    {
     "data": {
      "text/plain": [
       "(-17.753876651737507, 24.753876651737507)"
      ]
     },
     "execution_count": 9,
     "metadata": {},
     "output_type": "execute_result"
    }
   ],
   "source": [
    "m - dp, m+ dp"
   ]
  },
  {
   "cell_type": "code",
   "execution_count": 10,
   "id": "6a0463e7-ea45-443a-87b9-32c1156ef84d",
   "metadata": {},
   "outputs": [
    {
     "data": {
      "text/plain": [
       "(-39.00775330347501, 46.00775330347501)"
      ]
     },
     "execution_count": 10,
     "metadata": {},
     "output_type": "execute_result"
    }
   ],
   "source": [
    "m - 2*dp, m + 2*dp"
   ]
  },
  {
   "cell_type": "markdown",
   "id": "cc23d5f9-81a9-4a69-a20e-8bf29fc8cb87",
   "metadata": {},
   "source": [
    "## Variância e Desvio Padrão no Pandas"
   ]
  },
  {
   "cell_type": "code",
   "execution_count": 11,
   "id": "e5dcc271-358c-471c-9104-8e0b03265e0a",
   "metadata": {},
   "outputs": [],
   "source": [
    "import pandas\n",
    "path = 'C:/Users/jjoao/AnaliseDeDados/'"
   ]
  },
  {
   "cell_type": "code",
   "execution_count": 14,
   "id": "2c72833e-b0af-4ab7-9055-9f16113f8f2d",
   "metadata": {},
   "outputs": [],
   "source": [
    "diabetes = pandas.read_excel(path + 'diabetes.xlsx')"
   ]
  },
  {
   "cell_type": "code",
   "execution_count": 15,
   "id": "d4b95001-6dc1-4a42-8e3d-3b25dc272c3d",
   "metadata": {},
   "outputs": [
    {
     "data": {
      "text/html": [
       "<div>\n",
       "<style scoped>\n",
       "    .dataframe tbody tr th:only-of-type {\n",
       "        vertical-align: middle;\n",
       "    }\n",
       "\n",
       "    .dataframe tbody tr th {\n",
       "        vertical-align: top;\n",
       "    }\n",
       "\n",
       "    .dataframe thead th {\n",
       "        text-align: right;\n",
       "    }\n",
       "</style>\n",
       "<table border=\"1\" class=\"dataframe\">\n",
       "  <thead>\n",
       "    <tr style=\"text-align: right;\">\n",
       "      <th></th>\n",
       "      <th>idade</th>\n",
       "      <th>imc</th>\n",
       "    </tr>\n",
       "  </thead>\n",
       "  <tbody>\n",
       "    <tr>\n",
       "      <th>0</th>\n",
       "      <td>50</td>\n",
       "      <td>33.6</td>\n",
       "    </tr>\n",
       "    <tr>\n",
       "      <th>1</th>\n",
       "      <td>31</td>\n",
       "      <td>26.6</td>\n",
       "    </tr>\n",
       "    <tr>\n",
       "      <th>2</th>\n",
       "      <td>32</td>\n",
       "      <td>23.3</td>\n",
       "    </tr>\n",
       "    <tr>\n",
       "      <th>3</th>\n",
       "      <td>21</td>\n",
       "      <td>28.1</td>\n",
       "    </tr>\n",
       "    <tr>\n",
       "      <th>4</th>\n",
       "      <td>33</td>\n",
       "      <td>43.1</td>\n",
       "    </tr>\n",
       "    <tr>\n",
       "      <th>...</th>\n",
       "      <td>...</td>\n",
       "      <td>...</td>\n",
       "    </tr>\n",
       "    <tr>\n",
       "      <th>763</th>\n",
       "      <td>63</td>\n",
       "      <td>32.9</td>\n",
       "    </tr>\n",
       "    <tr>\n",
       "      <th>764</th>\n",
       "      <td>27</td>\n",
       "      <td>36.8</td>\n",
       "    </tr>\n",
       "    <tr>\n",
       "      <th>765</th>\n",
       "      <td>30</td>\n",
       "      <td>26.2</td>\n",
       "    </tr>\n",
       "    <tr>\n",
       "      <th>766</th>\n",
       "      <td>47</td>\n",
       "      <td>30.1</td>\n",
       "    </tr>\n",
       "    <tr>\n",
       "      <th>767</th>\n",
       "      <td>23</td>\n",
       "      <td>30.4</td>\n",
       "    </tr>\n",
       "  </tbody>\n",
       "</table>\n",
       "<p>768 rows × 2 columns</p>\n",
       "</div>"
      ],
      "text/plain": [
       "     idade   imc\n",
       "0       50  33.6\n",
       "1       31  26.6\n",
       "2       32  23.3\n",
       "3       21  28.1\n",
       "4       33  43.1\n",
       "..     ...   ...\n",
       "763     63  32.9\n",
       "764     27  36.8\n",
       "765     30  26.2\n",
       "766     47  30.1\n",
       "767     23  30.4\n",
       "\n",
       "[768 rows x 2 columns]"
      ]
     },
     "execution_count": 15,
     "metadata": {},
     "output_type": "execute_result"
    }
   ],
   "source": [
    "diabetes[['idade', 'imc']]"
   ]
  },
  {
   "cell_type": "code",
   "execution_count": 16,
   "id": "e8b6f78f-520a-4340-87a8-0f8e279e6604",
   "metadata": {},
   "outputs": [
    {
     "data": {
      "text/plain": [
       "np.float64(138.30304589037377)"
      ]
     },
     "execution_count": 16,
     "metadata": {},
     "output_type": "execute_result"
    }
   ],
   "source": [
    "diabetes['idade'].var()"
   ]
  },
  {
   "cell_type": "code",
   "execution_count": 17,
   "id": "0e452522-93e1-42a8-ab74-a6dd5ce18826",
   "metadata": {},
   "outputs": [
    {
     "data": {
      "text/plain": [
       "np.float64(47.955463399802895)"
      ]
     },
     "execution_count": 17,
     "metadata": {},
     "output_type": "execute_result"
    }
   ],
   "source": [
    "diabetes['imc'].var()"
   ]
  },
  {
   "cell_type": "code",
   "execution_count": 19,
   "id": "f46e8794-7dad-4c79-9ba0-1629c9c61ff0",
   "metadata": {},
   "outputs": [
    {
     "data": {
      "text/plain": [
       "idade    33.240885\n",
       "imc      32.457464\n",
       "dtype: float64"
      ]
     },
     "execution_count": 19,
     "metadata": {},
     "output_type": "execute_result"
    }
   ],
   "source": [
    "diabetes[['idade', 'imc']].mean()"
   ]
  },
  {
   "cell_type": "code",
   "execution_count": 20,
   "id": "0fffa951-fcfb-4149-bf0a-95e490a3f71d",
   "metadata": {},
   "outputs": [
    {
     "data": {
      "text/plain": [
       "idade    11.760232\n",
       "imc       6.924988\n",
       "dtype: float64"
      ]
     },
     "execution_count": 20,
     "metadata": {},
     "output_type": "execute_result"
    }
   ],
   "source": [
    "diabetes[['idade', 'imc']].std()"
   ]
  }
 ],
 "metadata": {
  "kernelspec": {
   "display_name": "Python 3 (ipykernel)",
   "language": "python",
   "name": "python3"
  },
  "language_info": {
   "codemirror_mode": {
    "name": "ipython",
    "version": 3
   },
   "file_extension": ".py",
   "mimetype": "text/x-python",
   "name": "python",
   "nbconvert_exporter": "python",
   "pygments_lexer": "ipython3",
   "version": "3.12.9"
  }
 },
 "nbformat": 4,
 "nbformat_minor": 5
}

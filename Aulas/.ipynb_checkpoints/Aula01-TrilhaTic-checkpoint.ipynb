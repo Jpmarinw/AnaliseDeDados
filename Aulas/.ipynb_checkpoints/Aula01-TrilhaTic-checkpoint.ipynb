{
 "cells": [
  {
   "cell_type": "code",
   "execution_count": 2,
   "id": "6d734710-7c76-4bc9-8068-b9fb751c1724",
   "metadata": {},
   "outputs": [
    {
     "name": "stdout",
     "output_type": "stream",
     "text": [
      "Hello World!\n"
     ]
    }
   ],
   "source": [
    "print('Hello World!')"
   ]
  },
  {
   "cell_type": "code",
   "execution_count": 2,
   "id": "6c6dbe33-085c-44d5-9b56-cd7c4bf39778",
   "metadata": {},
   "outputs": [
    {
     "name": "stdout",
     "output_type": "stream",
     "text": [
      "30\n"
     ]
    }
   ],
   "source": [
    "def soma(primeiro, segundo):\n",
    "    resultado = primeiro + segundo\n",
    "    return resultado\n",
    "\n",
    "valor_um = 10\n",
    "valor_dois = 20\n",
    "\n",
    "soma = soma(valor_um, valor_dois)\n",
    "print(soma)"
   ]
  },
  {
   "cell_type": "code",
   "execution_count": 6,
   "id": "99d88a9e-2003-45e1-893b-ec7e454214da",
   "metadata": {},
   "outputs": [
    {
     "name": "stdout",
     "output_type": "stream",
     "text": [
      "Claudia\n"
     ]
    }
   ],
   "source": [
    "lista_cliente = ['João', 'José', 'Maria', 'Juliane']\n",
    "lista_produtos = ['Maçã', 'Banana', 'Chocolate']\n",
    "\n",
    "lista_cliente.append('Claudia')\n",
    "\n",
    "print(lista_cliente[4])"
   ]
  },
  {
   "cell_type": "code",
   "execution_count": 8,
   "id": "b3aa04c8-0e9a-46c8-be95-7534f90ec023",
   "metadata": {},
   "outputs": [
    {
     "name": "stdout",
     "output_type": "stream",
     "text": [
      "[('Banana', 4, 8.0)]\n"
     ]
    }
   ],
   "source": [
    "lista_vendas = []\n",
    "venda = ('Banana', 4, 8.0)\n",
    "lista_vendas.append(venda)\n",
    "\n",
    "print(lista_vendas)"
   ]
  },
  {
   "cell_type": "code",
   "execution_count": 10,
   "id": "55ea6bf5-323e-45fa-8b64-07430acfe005",
   "metadata": {},
   "outputs": [
    {
     "name": "stdout",
     "output_type": "stream",
     "text": [
      "{'nome': 'João Pedro', 'idade': 24}\n"
     ]
    }
   ],
   "source": [
    "cliente_1 = {\n",
    "    'nome' : 'João Pedro',\n",
    "    'idade' : 24\n",
    "}\n",
    "\n",
    "print(cliente_1)"
   ]
  },
  {
   "cell_type": "code",
   "execution_count": 12,
   "id": "012b2f50-5974-4daa-b97b-f91b5dc81cf2",
   "metadata": {},
   "outputs": [
    {
     "name": "stdout",
     "output_type": "stream",
     "text": [
      "81.0\n"
     ]
    }
   ],
   "source": [
    "import math\n",
    "\n",
    "print(math.pow(3, 4))"
   ]
  },
  {
   "cell_type": "code",
   "execution_count": null,
   "id": "655582c0-cec1-42f6-9f13-8c697df02b7b",
   "metadata": {},
   "outputs": [],
   "source": []
  }
 ],
 "metadata": {
  "kernelspec": {
   "display_name": "Python 3 (ipykernel)",
   "language": "python",
   "name": "python3"
  },
  "language_info": {
   "codemirror_mode": {
    "name": "ipython",
    "version": 3
   },
   "file_extension": ".py",
   "mimetype": "text/x-python",
   "name": "python",
   "nbconvert_exporter": "python",
   "pygments_lexer": "ipython3",
   "version": "3.12.9"
  }
 },
 "nbformat": 4,
 "nbformat_minor": 5
}
